{
 "cells": [
  {
   "cell_type": "markdown",
   "source": [
    "# Using google, googleapiclient, google_auth_oauthlib"
   ],
   "metadata": {
    "collapsed": false
   }
  },
  {
   "cell_type": "code",
   "execution_count": 1,
   "outputs": [
    {
     "name": "stdout",
     "output_type": "stream",
     "text": [
      "Files:\n",
      "Hi.txt (1EpJY4maoG6JImPjjd1T2r1iGRrOlyKLR)\n",
      "Sztudia (0B2R7hpBSo46OZ2hVNHlSeUlFRkk)\n",
      "IT_Analisis_Data (1cTE2fLpGwIhmTQsJ76hQexSAIEaPM5EZ)\n",
      "jobData.csv (1Jk_6f3D0J27dVdinbfaBhuyApw3VE_VF)\n",
      "Lista osób wesele 2024r. (1Y3VnCTkKwnWdGpkgy_ED0DjRYF-psIFxCOaNAuMdwz0)\n",
      "WSI pogrupowane (1YhU6XGBKupPgbhbAicf8l1RUX9GwbCS-OsF8SOXJnWw)\n",
      "projects_cpp.jpg (1nXTfl6kxfOTm1GdThNss5uizsZnjvFRC)\n",
      "projects_python.jpg (1BdJ8BoAcpTfAn_nxfRZBXt7SGLwu1C85)\n",
      "economics_in2.JPG (13kgHpTxjoQaGPvvmnuYDLBbO7eNG5syy)\n",
      "WebPage_photos (1aUV97lHM0xj3vjicZGaBnB-uf3l6Mn71)\n"
     ]
    }
   ],
   "source": [
    "from __future__ import print_function\n",
    "\n",
    "import os.path\n",
    "\n",
    "from google.auth.transport.requests import Request\n",
    "from google.oauth2.credentials import Credentials\n",
    "from google_auth_oauthlib.flow import InstalledAppFlow\n",
    "from googleapiclient.discovery import build\n",
    "from googleapiclient.errors import HttpError\n",
    "\n",
    "# If modifying these scopes, delete the file token.json.\n",
    "SCOPES = ['https://www.googleapis.com/auth/drive.metadata.readonly']\n",
    "\n",
    "\n",
    "def main():\n",
    "    \"\"\"Shows basic usage of the Drive v3 API.\n",
    "    Prints the names and ids of the first 10 files the user has access to.\n",
    "    \"\"\"\n",
    "    creds = None\n",
    "    # The file token.json stores the user's access and refresh tokens, and is\n",
    "    # created automatically when the authorization flow completes for the first\n",
    "    # time.\n",
    "    if os.path.exists('token.json'):\n",
    "        creds = Credentials.from_authorized_user_file('token.json', SCOPES)\n",
    "    # If there are no (valid) credentials available, let the user log in.\n",
    "    if not creds or not creds.valid:\n",
    "        if creds and creds.expired and creds.refresh_token:\n",
    "            creds.refresh(Request())\n",
    "        else:\n",
    "            flow = InstalledAppFlow.from_client_secrets_file(\n",
    "                'credentials.json', SCOPES)\n",
    "            creds = flow.run_local_server(port=0)\n",
    "        # Save the credentials for the next run\n",
    "        with open('token.json', 'w') as token:\n",
    "            token.write(creds.to_json())\n",
    "\n",
    "    try:\n",
    "        service = build('drive', 'v3', credentials=creds)\n",
    "\n",
    "        # Call the Drive v3 API\n",
    "        results = service.files().list(\n",
    "            pageSize=10, fields=\"nextPageToken, files(id, name)\").execute()\n",
    "        items = results.get('files', [])\n",
    "\n",
    "        if not items:\n",
    "            print('No files found.')\n",
    "            return\n",
    "        print('Files:')\n",
    "        for item in items:\n",
    "            print(u'{0} ({1})'.format(item['name'], item['id']))\n",
    "    except HttpError as error:\n",
    "        # TODO(developer) - Handle errors from drive API.\n",
    "        print(f'An error occurred: {error}')\n",
    "\n",
    "\n",
    "if __name__ == '__main__':\n",
    "    main()"
   ],
   "metadata": {
    "collapsed": false
   }
  },
  {
   "cell_type": "markdown",
   "source": [
    "# Using pydrive"
   ],
   "metadata": {
    "collapsed": false
   }
  },
  {
   "cell_type": "code",
   "execution_count": 3,
   "outputs": [
    {
     "name": "stdout",
     "output_type": "stream",
     "text": [
      "Your browser has been opened to visit:\n",
      "\n",
      "    https://accounts.google.com/o/oauth2/auth?client_id=35857222908-28n1lfouk04d6sep1vd94uj9348o2ka4.apps.googleusercontent.com&redirect_uri=http%3A%2F%2Flocalhost%3A8080%2F&scope=https%3A%2F%2Fwww.googleapis.com%2Fauth%2Fdrive&access_type=offline&response_type=code\n",
      "\n",
      "Authentication successful.\n",
      "Files:\n",
      "Hi.txt (1EpJY4maoG6JImPjjd1T2r1iGRrOlyKLR)\n",
      "Sztudia (0B2R7hpBSo46OZ2hVNHlSeUlFRkk)\n",
      "IT_Analisis_Data (1cTE2fLpGwIhmTQsJ76hQexSAIEaPM5EZ)\n",
      "jobData.csv (1Jk_6f3D0J27dVdinbfaBhuyApw3VE_VF)\n",
      "Lista osób wesele 2024r. (1Y3VnCTkKwnWdGpkgy_ED0DjRYF-psIFxCOaNAuMdwz0)\n",
      "WSI pogrupowane (1YhU6XGBKupPgbhbAicf8l1RUX9GwbCS-OsF8SOXJnWw)\n",
      "projects_cpp.jpg (1nXTfl6kxfOTm1GdThNss5uizsZnjvFRC)\n",
      "projects_python.jpg (1BdJ8BoAcpTfAn_nxfRZBXt7SGLwu1C85)\n",
      "economics_in2.JPG (13kgHpTxjoQaGPvvmnuYDLBbO7eNG5syy)\n",
      "WebPage_photos (1aUV97lHM0xj3vjicZGaBnB-uf3l6Mn71)\n"
     ]
    }
   ],
   "source": [
    "from pydrive.auth import GoogleAuth\n",
    "from pydrive.drive import GoogleDrive\n",
    "\n",
    "def main():\n",
    "    gauth = GoogleAuth()\n",
    "    #\n",
    "    # # Try to load credentials from a saved file\n",
    "    # gauth.LoadCredentialsFile(\"credentials/mycreds.txt\")\n",
    "\n",
    "    # If there are no credentials or they are not valid, authenticate\n",
    "    if gauth.credentials is None or not gauth.credentials.valid:\n",
    "        gauth.LocalWebserverAuth()\n",
    "\n",
    "    drive = GoogleDrive(gauth)\n",
    "\n",
    "    try:\n",
    "        # List first 10 files' names and IDs\n",
    "        file_list = drive.ListFile({'maxResults': 10}).GetList()\n",
    "\n",
    "        if not file_list:\n",
    "            print('No files found.')\n",
    "            return\n",
    "\n",
    "        print('Files:')\n",
    "        for file in file_list:\n",
    "            print(u'{0} ({1})'.format(file['title'], file['id']))\n",
    "\n",
    "    except Exception as error:\n",
    "        print(f'An error occurred: {error}')\n",
    "\n",
    "if __name__ == '__main__':\n",
    "    main()\n"
   ],
   "metadata": {
    "collapsed": false,
    "ExecuteTime": {
     "start_time": "2023-08-31T13:12:04.907669Z",
     "end_time": "2023-08-31T13:12:14.741802Z"
    }
   }
  },
  {
   "cell_type": "markdown",
   "source": [
    "# Work with CSV"
   ],
   "metadata": {
    "collapsed": false
   }
  },
  {
   "cell_type": "code",
   "execution_count": null,
   "outputs": [],
   "source": [
    "from pydrive.auth import GoogleAuth\n",
    "from pydrive.drive import GoogleDrive\n",
    "import csv\n",
    "import io\n",
    "\n",
    "# Tworzenie autentykacji i nawiązywanie połączenia z Google Drive\n",
    "gauth = GoogleAuth()\n",
    "gauth.LocalWebserverAuth()  # Uwierzytelnianie poprzez lokalny serwer (OAUTH)\n",
    "drive = GoogleDrive(gauth)\n",
    "\n",
    "# ID pliku CSV w Google Drive (znajdź to ID w adresie URL pliku)\n",
    "file_id = 'your_file_id_here'\n",
    "\n",
    "# Pobieranie pliku CSV\n",
    "file = drive.CreateFile({'id': file_id})\n",
    "content = file.GetContentString()\n",
    "\n",
    "# Tworzenie obiektu IO do odczytu zawartości pliku jako CSV\n",
    "csv_io = io.StringIO(content)\n",
    "\n",
    "# Odczytywanie zawartości pliku CSV\n",
    "csv_reader = csv.reader(csv_io)\n",
    "for row in csv_reader:\n",
    "    print(row)"
   ],
   "metadata": {
    "collapsed": false
   }
  },
  {
   "cell_type": "markdown",
   "source": [
    "# Notes"
   ],
   "metadata": {
    "collapsed": false
   }
  },
  {
   "cell_type": "code",
   "execution_count": null,
   "outputs": [],
   "source": [
    "from pydrive.drive import GoogleDrive\n",
    "from pydrive.auth import GoogleAuth\n",
    "\n",
    "gauth = GoogleAuth()\n",
    "\n",
    "# Load JSON credentials downloaded from Google\n",
    "GoogleAuth.DEFAULT_SETTINGS['client_config_file'] = 'credentials/client_secrets.json'\n",
    "# Try to use the credential .txt generated at the first 0Auth approval\n",
    "gauth.LoadCredentialsFile(\"credentials/mycreds.txt\")\n",
    "\n",
    "# If the app was not yet authenticated it will ask to get the authentication from Google\n",
    "if gauth.credentials is None:\n",
    "    # Authenticate if they're not there\n",
    "    # gauth.LocalWebserverAuth() # <-- WebApp approval\n",
    "    gauth.CommandLineAuth()  # <-- Command Line Approva\n",
    "\n",
    "# If credential has expired refresh\n",
    "elif gauth.access_token_expired:\n",
    "    gauth.Refresh()\n",
    "\n",
    "# Initialize the saved creds\n",
    "else:\n",
    "    gauth.Authorize()\n",
    "\n",
    "# Save current credentials into a TXT file for the future\n",
    "gauth.SaveCredentialsFile(\"credentials/mycreds.txt\")\n",
    "drive = GoogleDrive(gauth)\n",
    "\n",
    "\n",
    "## Example: List all files in the drive\n",
    "file_list = drive.ListFile({'q': \"'root' in parents and trashed=false\"}).GetList()\n",
    "for file1 in file_list:\n",
    "  print('title: %s, id: %s' % (file1['title'], file1['id']))"
   ],
   "metadata": {
    "collapsed": false
   }
  },
  {
   "cell_type": "code",
   "execution_count": null,
   "outputs": [],
   "source": [],
   "metadata": {
    "collapsed": false
   }
  }
 ],
 "metadata": {
  "kernelspec": {
   "display_name": "Python 3",
   "language": "python",
   "name": "python3"
  },
  "language_info": {
   "codemirror_mode": {
    "name": "ipython",
    "version": 2
   },
   "file_extension": ".py",
   "mimetype": "text/x-python",
   "name": "python",
   "nbconvert_exporter": "python",
   "pygments_lexer": "ipython2",
   "version": "2.7.6"
  }
 },
 "nbformat": 4,
 "nbformat_minor": 0
}
