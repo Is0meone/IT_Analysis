{
 "cells": [
  {
   "cell_type": "markdown",
   "source": [
    "# Connect with Google Drive using Google API\n",
    "Other library: https://pythonhosted.org/PyDrive/quickstart.html"
   ],
   "metadata": {
    "collapsed": false
   }
  },
  {
   "cell_type": "code",
   "execution_count": 14,
   "outputs": [],
   "source": [
    "from __future__ import print_function\n",
    "import os.path\n",
    "from google.auth.transport.requests import Request\n",
    "from google.oauth2.credentials import Credentials\n",
    "from google_auth_oauthlib.flow import InstalledAppFlow\n",
    "from googleapiclient.discovery import build\n",
    "from googleapiclient.errors import HttpError"
   ],
   "metadata": {
    "collapsed": false,
    "ExecuteTime": {
     "start_time": "2023-09-02T01:22:26.309327Z",
     "end_time": "2023-09-02T01:22:26.320336Z"
    }
   }
  },
  {
   "cell_type": "code",
   "execution_count": 15,
   "outputs": [
    {
     "name": "stdout",
     "output_type": "stream",
     "text": [
      "Files:\n",
      "Hi.txt (1EpJY4maoG6JImPjjd1T2r1iGRrOlyKLR)\n",
      "Sztudia (0B2R7hpBSo46OZ2hVNHlSeUlFRkk)\n",
      "IT_Analisis_Data (1cTE2fLpGwIhmTQsJ76hQexSAIEaPM5EZ)\n",
      "jobData.csv (1Jk_6f3D0J27dVdinbfaBhuyApw3VE_VF)\n",
      "Lista osób wesele 2024r. (1Y3VnCTkKwnWdGpkgy_ED0DjRYF-psIFxCOaNAuMdwz0)\n",
      "WSI pogrupowane (1YhU6XGBKupPgbhbAicf8l1RUX9GwbCS-OsF8SOXJnWw)\n",
      "projects_cpp.jpg (1nXTfl6kxfOTm1GdThNss5uizsZnjvFRC)\n",
      "projects_python.jpg (1BdJ8BoAcpTfAn_nxfRZBXt7SGLwu1C85)\n",
      "economics_in2.JPG (13kgHpTxjoQaGPvvmnuYDLBbO7eNG5syy)\n",
      "WebPage_photos (1aUV97lHM0xj3vjicZGaBnB-uf3l6Mn71)\n"
     ]
    }
   ],
   "source": [
    "# If modifying these scopes, delete the file token.json.\n",
    "SCOPES = ['https://www.googleapis.com/auth/drive.metadata.readonly']\n",
    "\n",
    "def main():\n",
    "    \"\"\"\n",
    "    Prints the names and ids of the first 10 files the user has access to.\n",
    "    \"\"\"\n",
    "    creds = None\n",
    "    # token.json stores the user's access and refresh tokens, and is created\n",
    "    # automatically when the authorization flow completes for the first time.\n",
    "    if os.path.exists('token.json'):\n",
    "        creds = Credentials.from_authorized_user_file('token.json', SCOPES)\n",
    "    # If there are no (valid) credentials available, let the user log in.\n",
    "    if not creds or not creds.valid:\n",
    "        if creds and creds.expired and creds.refresh_token:\n",
    "            creds.refresh(Request())\n",
    "        else:\n",
    "            flow = InstalledAppFlow.from_client_secrets_file(\n",
    "                'credentials.json', SCOPES)\n",
    "            creds = flow.run_local_server(port=0)\n",
    "        # Save the credentials for the next run\n",
    "        with open('token.json', 'w') as token:\n",
    "            token.write(creds.to_json())\n",
    "\n",
    "    try:\n",
    "        service = build('drive', 'v3', credentials=creds)\n",
    "\n",
    "        # Call the Drive v3 API\n",
    "        results = service.files().list(\n",
    "            pageSize=10, fields=\"nextPageToken, files(id, name)\").execute()\n",
    "        items = results.get('files', [])\n",
    "\n",
    "        if not items:\n",
    "            print('No files found.')\n",
    "            return\n",
    "        print('Files:')\n",
    "        for item in items:\n",
    "            print(u'{0} ({1})'.format(item['name'], item['id']))\n",
    "    except HttpError as error:\n",
    "        # TODO(developer) - Handle errors from drive API.\n",
    "        print(f'An error occurred: {error}')\n",
    "\n",
    "if __name__ == '__main__':\n",
    "    main()"
   ],
   "metadata": {
    "collapsed": false,
    "ExecuteTime": {
     "start_time": "2023-09-02T01:22:30.332411Z",
     "end_time": "2023-09-02T01:22:30.884395Z"
    }
   }
  },
  {
   "cell_type": "markdown",
   "source": [
    "# Work with CSV"
   ],
   "metadata": {
    "collapsed": false
   }
  },
  {
   "cell_type": "code",
   "execution_count": 17,
   "outputs": [
    {
     "name": "stdout",
     "output_type": "stream",
     "text": [
      "File not found.\n"
     ]
    }
   ],
   "source": [
    "import csv\n",
    "import io\n",
    "import os.path\n",
    "import pandas as pd  # Dodajemy obsługę pandas\n",
    "\n",
    "SCOPES = ['https://www.googleapis.com/auth/drive.metadata.readonly']\n",
    "file_id = '1Jk_6f3D0J27dVdinbfaBhuyApw3VE_VF'\n",
    "\n",
    "def download_csv():\n",
    "    creds = None\n",
    "\n",
    "    if os.path.exists('token.json'):\n",
    "        creds = Credentials.from_authorized_user_file('token.json', SCOPES)\n",
    "\n",
    "    # If there are no (valid) credentials available, let the user log in.\n",
    "    if not creds or not creds.valid:\n",
    "        if creds and creds.expired and creds.refresh_token:\n",
    "            creds.refresh(Request())\n",
    "        else:\n",
    "            flow = InstalledAppFlow.from_client_secrets_file(\n",
    "                'credentials.json', SCOPES)\n",
    "            creds = flow.run_local_server(port=0)\n",
    "        # Save the credentials for the next run\n",
    "        with open('token.json', 'w') as token:\n",
    "            token.write(creds.to_json())\n",
    "\n",
    "    try:\n",
    "        service = build('drive', 'v3', credentials=creds)\n",
    "\n",
    "        # Download CSV\n",
    "        file = service.files().get(fileId=file_id).execute()\n",
    "        download_url = file.get('webContentLink')\n",
    "        if download_url:\n",
    "            resp, content = service.http.request(download_url)\n",
    "            return content\n",
    "        else:\n",
    "            print('File not found.')\n",
    "            return None\n",
    "\n",
    "    except HttpError as error:\n",
    "        # TODO(developer) - Handle errors from drive API.\n",
    "        print(f'An error occurred: {error}')\n",
    "        return None\n",
    "\n",
    "def process_csv(content):\n",
    "    if content:\n",
    "        # Tworzenie obiektu IO do odczytu zawartości pliku jako CSV\n",
    "        csv_io = io.StringIO(content.decode('utf-8'))\n",
    "\n",
    "        # Odczytywanie zawartości pliku CSV\n",
    "        csv_reader = csv.reader(csv_io)\n",
    "\n",
    "        # Tworzenie ramki danych pandasowej\n",
    "        df = pd.DataFrame(csv_reader)\n",
    "\n",
    "        # Wyświetlanie ramki danych\n",
    "        print(df)\n",
    "\n",
    "if __name__ == '__main__':\n",
    "    csv_content = download_csv()\n",
    "    if csv_content:\n",
    "        process_csv(csv_content)"
   ],
   "metadata": {
    "collapsed": false,
    "ExecuteTime": {
     "start_time": "2023-09-02T01:29:30.868652Z",
     "end_time": "2023-09-02T01:29:31.260644Z"
    }
   }
  },
  {
   "cell_type": "code",
   "execution_count": null,
   "outputs": [],
   "source": [],
   "metadata": {
    "collapsed": false
   }
  }
 ],
 "metadata": {
  "kernelspec": {
   "display_name": "Python 3",
   "language": "python",
   "name": "python3"
  },
  "language_info": {
   "codemirror_mode": {
    "name": "ipython",
    "version": 2
   },
   "file_extension": ".py",
   "mimetype": "text/x-python",
   "name": "python",
   "nbconvert_exporter": "python",
   "pygments_lexer": "ipython2",
   "version": "2.7.6"
  }
 },
 "nbformat": 4,
 "nbformat_minor": 0
}
