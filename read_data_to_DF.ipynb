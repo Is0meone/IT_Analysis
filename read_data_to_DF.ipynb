{
 "cells": [
  {
   "cell_type": "code",
   "execution_count": 1,
   "metadata": {
    "collapsed": true,
    "ExecuteTime": {
     "start_time": "2023-09-01T20:10:21.715512Z",
     "end_time": "2023-09-01T20:10:22.145785Z"
    }
   },
   "outputs": [],
   "source": [
    "import pandas as pd"
   ]
  },
  {
   "cell_type": "code",
   "execution_count": 9,
   "outputs": [
    {
     "name": "stderr",
     "output_type": "stream",
     "text": [
      "C:\\Users\\jkwia\\AppData\\Local\\Programs\\Python\\Python39\\lib\\site-packages\\IPython\\core\\interactiveshell.py:3460: FutureWarning: The error_bad_lines argument has been deprecated and will be removed in a future version.\n",
      "\n",
      "\n",
      "  exec(code_obj, self.user_global_ns, self.user_ns)\n",
      "b'Skipping line 153: expected 6 fields, saw 11\\n'\n"
     ]
    }
   ],
   "source": [
    "df = pd.read_csv('DataStore/jobData.csv',error_bad_lines=False)"
   ],
   "metadata": {
    "collapsed": false,
    "ExecuteTime": {
     "start_time": "2023-09-01T20:13:10.621139Z",
     "end_time": "2023-09-01T20:13:10.628646Z"
    }
   }
  },
  {
   "cell_type": "code",
   "execution_count": 12,
   "outputs": [
    {
     "data": {
      "text/plain": "                                              Position  \\\n152  Programista C++ (karty mikroprocesorowe/ krypt...   \n153              Senior Backend Developer with Node.js   \n154          Senior DevOps Engineer for Cloud Services   \n\n                                          Company Experience Salary  \\\n152  ENIGMA Systemy Ochrony Informacji Sp. z o.o.        Mid      -   \n153                           NTIATIVE sp. z o.o.     Senior      -   \n154                  Samsung R&D Institute Poland     Senior      -   \n\n                       Used Technologies  \\\n152                                  C++   \n153  Node.js, PostgreSQL, MongoDB, Redis   \n154    Kubernetes, Terraform, Prometheus   \n\n                                 Optional Technologies  \n152  C, Python, Yocto, UNIX/Linux, RTOS, ARM, Xilin...  \n153                    Java, Python, Scala, JavaScript  \n154                                                NaN  ",
      "text/html": "<div>\n<style scoped>\n    .dataframe tbody tr th:only-of-type {\n        vertical-align: middle;\n    }\n\n    .dataframe tbody tr th {\n        vertical-align: top;\n    }\n\n    .dataframe thead th {\n        text-align: right;\n    }\n</style>\n<table border=\"1\" class=\"dataframe\">\n  <thead>\n    <tr style=\"text-align: right;\">\n      <th></th>\n      <th>Position</th>\n      <th>Company</th>\n      <th>Experience</th>\n      <th>Salary</th>\n      <th>Used Technologies</th>\n      <th>Optional Technologies</th>\n    </tr>\n  </thead>\n  <tbody>\n    <tr>\n      <th>152</th>\n      <td>Programista C++ (karty mikroprocesorowe/ krypt...</td>\n      <td>ENIGMA Systemy Ochrony Informacji Sp. z o.o.</td>\n      <td>Mid</td>\n      <td>-</td>\n      <td>C++</td>\n      <td>C, Python, Yocto, UNIX/Linux, RTOS, ARM, Xilin...</td>\n    </tr>\n    <tr>\n      <th>153</th>\n      <td>Senior Backend Developer with Node.js</td>\n      <td>NTIATIVE sp. z o.o.</td>\n      <td>Senior</td>\n      <td>-</td>\n      <td>Node.js, PostgreSQL, MongoDB, Redis</td>\n      <td>Java, Python, Scala, JavaScript</td>\n    </tr>\n    <tr>\n      <th>154</th>\n      <td>Senior DevOps Engineer for Cloud Services</td>\n      <td>Samsung R&amp;D Institute Poland</td>\n      <td>Senior</td>\n      <td>-</td>\n      <td>Kubernetes, Terraform, Prometheus</td>\n      <td>NaN</td>\n    </tr>\n  </tbody>\n</table>\n</div>"
     },
     "execution_count": 12,
     "metadata": {},
     "output_type": "execute_result"
    }
   ],
   "source": [
    "df[152:155]"
   ],
   "metadata": {
    "collapsed": false,
    "ExecuteTime": {
     "start_time": "2023-09-01T20:13:34.939000Z",
     "end_time": "2023-09-01T20:13:34.948011Z"
    }
   }
  }
 ],
 "metadata": {
  "kernelspec": {
   "display_name": "Python 3",
   "language": "python",
   "name": "python3"
  },
  "language_info": {
   "codemirror_mode": {
    "name": "ipython",
    "version": 2
   },
   "file_extension": ".py",
   "mimetype": "text/x-python",
   "name": "python",
   "nbconvert_exporter": "python",
   "pygments_lexer": "ipython2",
   "version": "2.7.6"
  }
 },
 "nbformat": 4,
 "nbformat_minor": 0
}
